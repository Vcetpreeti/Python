{
  "nbformat": 4,
  "nbformat_minor": 0,
  "metadata": {
    "colab": {
      "provenance": [],
      "authorship_tag": "ABX9TyPg/BT49zHvFvfDyk+2riXS",
      "include_colab_link": true
    },
    "kernelspec": {
      "name": "python3",
      "display_name": "Python 3"
    },
    "language_info": {
      "name": "python"
    }
  },
  "cells": [
    {
      "cell_type": "markdown",
      "metadata": {
        "id": "view-in-github",
        "colab_type": "text"
      },
      "source": [
        "<a href=\"https://colab.research.google.com/github/Vcetpreeti/Python/blob/main/DAY1.ipynb\" target=\"_parent\"><img src=\"https://colab.research.google.com/assets/colab-badge.svg\" alt=\"Open In Colab\"/></a>"
      ]
    },
    {
      "cell_type": "code",
      "source": [
        "X=5\n",
        "M=6\n",
        "Y=\"9\"\n",
        "z=\"2\"\n",
        "print(type(X))\n",
        "print(type(Y))\n",
        "print(type(M))\n",
        "print(type(z))\n",
        "print(type(Y+z))\n",
        "print(Y+z)\n",
        "print(X+M)\n",
        "a=int(z)\n",
        "print(a+M)\n",
        "\n",
        "#list\n",
        "l1=['hii','12','list','preeti',[9.5,'56','yes']]\n",
        "l2=l1[4][2]\n",
        "print(l2)\n",
        "print(len(l2))\n",
        "print(type(l1))\n",
        "nums=[]\n",
        "nums.append(34)\n",
        "nums.append('preeti')\n",
        "nums.append(67.5)\n",
        "print(nums)\n",
        "#tuple\n",
        "t1=()\n",
        "print(type(t1))\n",
        "#dictionary\n",
        "d1={'name':'preeti','age':12,'salary':1200}\n",
        "print(d1)\n",
        "print(type(d1))\n",
        "print(d1.keys())\n",
        "print(d1.items())\n",
        "print(d1.values())\n",
        "print(d1['age'])\n",
        "#input\n",
        "x=int(input(\"enter num1:\"))\n",
        "y=int(input(\"enter num2:\"))\n",
        "print(x*y)\n",
        "if 34>x:\n",
        "  print(\"number is good\")\n",
        "elif 34<y:\n",
        "  print(\"numberis not good\")\n",
        "else:\n",
        " print(\"number is okayyish\")\n",
        "#NumPy\n",
        "import numpy as np\n",
        "arr=np.array((1,2,3))\n",
        "print(\"array with rank 2:\",arr)\n",
        "print(type(arr))\n",
        "print(\"array size:\",arr.size)\n",
        "#view\n",
        "#copy\n",
        "#def\n",
        "#base function to get the original value\n",
        "import pandas as pd\n",
        "mydataset={\n",
        "    'cars':['bmw',\"mercedes\",\"porcshe\"],\n",
        "    'passings':[3,4,5]\n",
        "}\n"
      ],
      "metadata": {
        "id": "2u4VHlKkAoDy",
        "colab": {
          "base_uri": "https://localhost:8080/"
        },
        "outputId": "3e64a67d-87f2-49c6-961a-ba5414f1ba83"
      },
      "execution_count": 2,
      "outputs": [
        {
          "output_type": "stream",
          "name": "stdout",
          "text": [
            "<class 'int'>\n",
            "<class 'str'>\n",
            "<class 'int'>\n",
            "<class 'str'>\n",
            "<class 'str'>\n",
            "92\n",
            "11\n",
            "8\n",
            "yes\n",
            "3\n",
            "<class 'list'>\n",
            "[34, 'preeti', 67.5]\n",
            "<class 'tuple'>\n",
            "{'name': 'preeti', 'age': 12, 'salary': 1200}\n",
            "<class 'dict'>\n",
            "dict_keys(['name', 'age', 'salary'])\n",
            "dict_items([('name', 'preeti'), ('age', 12), ('salary', 1200)])\n",
            "dict_values(['preeti', 12, 1200])\n",
            "12\n",
            "enter num1:3\n",
            "enter num2:45\n",
            "135\n",
            "number is good\n",
            "array with rank 2: [1 2 3]\n",
            "<class 'numpy.ndarray'>\n",
            "array size: 3\n"
          ]
        }
      ]
    },
    {
      "cell_type": "markdown",
      "source": [
        "# New Section"
      ],
      "metadata": {
        "id": "7J6jpR0NReKA"
      }
    }
  ]
}